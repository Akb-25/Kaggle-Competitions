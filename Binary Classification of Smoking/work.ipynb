{
 "cells": [
  {
   "cell_type": "code",
   "execution_count": null,
   "metadata": {},
   "outputs": [],
   "source": [
    "# from imblearn.under_sampling import TomeLinks"
   ]
  },
  {
   "cell_type": "code",
   "execution_count": null,
   "metadata": {},
   "outputs": [],
   "source": [
    "import pandas as pd\n",
    "import numpy as np\n",
    "import matplotlib.pyplot as plt\n",
    "import seaborn as sns\n",
    "from sklearn.preprocessing import PolynomialFeatures"
   ]
  },
  {
   "cell_type": "code",
   "execution_count": null,
   "metadata": {},
   "outputs": [],
   "source": [
    "df=pd.read_csv(\"data/train.csv\")\n",
    "df.sample(6)"
   ]
  },
  {
   "cell_type": "code",
   "execution_count": null,
   "metadata": {},
   "outputs": [],
   "source": [
    "duplicates=df[df.duplicated()]"
   ]
  },
  {
   "cell_type": "code",
   "execution_count": null,
   "metadata": {},
   "outputs": [],
   "source": [
    "len(duplicates)"
   ]
  },
  {
   "cell_type": "code",
   "execution_count": null,
   "metadata": {},
   "outputs": [],
   "source": [
    "df.columns"
   ]
  },
  {
   "cell_type": "code",
   "execution_count": null,
   "metadata": {},
   "outputs": [],
   "source": [
    "# df.corr()[\"smoking\"]"
   ]
  },
  {
   "cell_type": "code",
   "execution_count": null,
   "metadata": {},
   "outputs": [],
   "source": [
    "df.isnull().sum()"
   ]
  },
  {
   "cell_type": "code",
   "execution_count": null,
   "metadata": {},
   "outputs": [],
   "source": [
    "df.describe()"
   ]
  },
  {
   "cell_type": "code",
   "execution_count": null,
   "metadata": {},
   "outputs": [],
   "source": [
    "df[\"eyesight\"]=df[\"eyesight(left)\"]+df[\"eyesight(right)\"]"
   ]
  },
  {
   "cell_type": "code",
   "execution_count": null,
   "metadata": {},
   "outputs": [],
   "source": [
    "# df.corr()[\"smoking\"]"
   ]
  },
  {
   "cell_type": "code",
   "execution_count": null,
   "metadata": {},
   "outputs": [],
   "source": [
    "df[\"bmi\"]=df[\"height(cm)\"]*0.01/df[\"weight(kg)\"]"
   ]
  },
  {
   "cell_type": "code",
   "execution_count": null,
   "metadata": {},
   "outputs": [],
   "source": [
    "# df.corr()[\"smoking\"]"
   ]
  },
  {
   "cell_type": "code",
   "execution_count": null,
   "metadata": {},
   "outputs": [],
   "source": [
    "# df.drop([\"heightWaist\",\"hearing\"],axis=1,inplace=True)\n",
    "df.corr()[\"smoking\"]"
   ]
  },
  {
   "cell_type": "code",
   "execution_count": null,
   "metadata": {},
   "outputs": [],
   "source": [
    "def get_unique(col):\n",
    "    print(col)\n",
    "    print(df[col].unique())\n",
    "    print()\n",
    "for i in df.columns:\n",
    "    get_unique(i)"
   ]
  },
  {
   "cell_type": "code",
   "execution_count": null,
   "metadata": {},
   "outputs": [],
   "source": [
    "def lowCols(col):\n",
    "    if len(df[col].unique())<3:\n",
    "        print(col)\n",
    "for i in df.columns:\n",
    "    lowCols(i)"
   ]
  },
  {
   "cell_type": "code",
   "execution_count": null,
   "metadata": {},
   "outputs": [],
   "source": [
    "sns.histplot(df,x=df[\"bmi\"],kde=True)"
   ]
  },
  {
   "cell_type": "code",
   "execution_count": null,
   "metadata": {},
   "outputs": [],
   "source": [
    "sns.boxplot(data=df,x=\"bmi\")"
   ]
  },
  {
   "cell_type": "code",
   "execution_count": null,
   "metadata": {},
   "outputs": [],
   "source": [
    "plt.boxplot?"
   ]
  },
  {
   "cell_type": "code",
   "execution_count": null,
   "metadata": {},
   "outputs": [],
   "source": [
    "def plotSkew(i,col):\n",
    "    plt.subplot(len(df.columns),2,2*i+1)\n",
    "    sns.histplot(data=df,x=col,kde=True)\n",
    "    plt.subplot(len(df.columns),2,2*i+2)\n",
    "    plt.boxplot(data=df,x=col,vert=False)\n",
    "plt.figure(figsize=(20,20))\n",
    "for i,col in enumerate(df.columns):\n",
    "    plotSkew(i,col)\n",
    "plt.tight_layout()\n",
    "plt.show()"
   ]
  },
  {
   "cell_type": "code",
   "execution_count": null,
   "metadata": {},
   "outputs": [],
   "source": [
    "for i,col in enumerate(df.columns):\n",
    "    plotSkew(i,col)"
   ]
  },
  {
   "cell_type": "code",
   "execution_count": null,
   "metadata": {},
   "outputs": [],
   "source": [
    "poly=PolynomialFeatures().fit(df.drop(\"smoking\",axis=1))\n",
    "poly_df=pd.DataFrame(poly.transform(df.drop(\"smoking\",axis=1)),columns=poly.get_feature_names_out())\n",
    "poly_df=poly_df.drop(\"1\",axis=1)\n",
    "poly_df.sample(6)"
   ]
  },
  {
   "cell_type": "code",
   "execution_count": null,
   "metadata": {},
   "outputs": [],
   "source": [
    "df.columns"
   ]
  },
  {
   "cell_type": "code",
   "execution_count": null,
   "metadata": {},
   "outputs": [],
   "source": [
    "poly_df.corr()"
   ]
  },
  {
   "cell_type": "code",
   "execution_count": null,
   "metadata": {},
   "outputs": [],
   "source": [
    "smoking=df[\"smoking\"]\n",
    "poly_merged_df=pd.merge(df,poly_df,on=\"id\",how=\"inner\")"
   ]
  },
  {
   "cell_type": "code",
   "execution_count": null,
   "metadata": {},
   "outputs": [],
   "source": [
    "poly_merged_df.columns"
   ]
  },
  {
   "cell_type": "code",
   "execution_count": null,
   "metadata": {},
   "outputs": [],
   "source": [
    "relatedValues=poly_merged_df.corr()[\"smoking\"]"
   ]
  },
  {
   "cell_type": "code",
   "execution_count": 120,
   "metadata": {},
   "outputs": [],
   "source": [
    "up_cols = relatedValues[relatedValues.values > 0.2].index.tolist()"
   ]
  },
  {
   "cell_type": "code",
   "execution_count": 121,
   "metadata": {},
   "outputs": [],
   "source": [
    "down_cols=relatedValues[(relatedValues.values <-0.2)].index.tolist()"
   ]
  },
  {
   "cell_type": "code",
   "execution_count": 122,
   "metadata": {},
   "outputs": [],
   "source": [
    "important_columns=up_cols+down_cols"
   ]
  },
  {
   "cell_type": "code",
   "execution_count": 123,
   "metadata": {},
   "outputs": [
    {
     "data": {
      "text/plain": [
       "list"
      ]
     },
     "execution_count": 123,
     "metadata": {},
     "output_type": "execute_result"
    }
   ],
   "source": [
    "type(important_columns)"
   ]
  },
  {
   "cell_type": "code",
   "execution_count": 128,
   "metadata": {},
   "outputs": [],
   "source": [
    "final_poly_df=poly_merged_df[important_columns]"
   ]
  },
  {
   "cell_type": "code",
   "execution_count": 129,
   "metadata": {},
   "outputs": [
    {
     "data": {
      "text/plain": [
       "height(cm)_x      0.447111\n",
       "weight(kg)_x      0.351748\n",
       "waist(cm)_x       0.262715\n",
       "triglyceride_x    0.331975\n",
       "hemoglobin_x      0.450679\n",
       "                    ...   \n",
       "HDL^2            -0.261970\n",
       "HDL LDL          -0.254801\n",
       "HDL bmi          -0.318609\n",
       "LDL bmi          -0.224091\n",
       "bmi^2            -0.285733\n",
       "Name: smoking, Length: 127, dtype: float64"
      ]
     },
     "execution_count": 129,
     "metadata": {},
     "output_type": "execute_result"
    }
   ],
   "source": [
    "final_poly_df.corr()[\"smoking\"]"
   ]
  },
  {
   "cell_type": "code",
   "execution_count": 131,
   "metadata": {},
   "outputs": [
    {
     "data": {
      "text/html": [
       "<div>\n",
       "<style scoped>\n",
       "    .dataframe tbody tr th:only-of-type {\n",
       "        vertical-align: middle;\n",
       "    }\n",
       "\n",
       "    .dataframe tbody tr th {\n",
       "        vertical-align: top;\n",
       "    }\n",
       "\n",
       "    .dataframe thead th {\n",
       "        text-align: right;\n",
       "    }\n",
       "</style>\n",
       "<table border=\"1\" class=\"dataframe\">\n",
       "  <thead>\n",
       "    <tr style=\"text-align: right;\">\n",
       "      <th></th>\n",
       "      <th>height(cm)_x</th>\n",
       "      <th>weight(kg)_x</th>\n",
       "      <th>waist(cm)_x</th>\n",
       "      <th>triglyceride_x</th>\n",
       "      <th>hemoglobin_x</th>\n",
       "      <th>serum creatinine_x</th>\n",
       "      <th>Gtp_x</th>\n",
       "      <th>smoking</th>\n",
       "      <th>height(cm)_y</th>\n",
       "      <th>weight(kg)_y</th>\n",
       "      <th>...</th>\n",
       "      <th>systolic HDL</th>\n",
       "      <th>systolic bmi</th>\n",
       "      <th>relaxation HDL</th>\n",
       "      <th>Cholesterol HDL</th>\n",
       "      <th>Cholesterol bmi</th>\n",
       "      <th>HDL^2</th>\n",
       "      <th>HDL LDL</th>\n",
       "      <th>HDL bmi</th>\n",
       "      <th>LDL bmi</th>\n",
       "      <th>bmi^2</th>\n",
       "    </tr>\n",
       "  </thead>\n",
       "  <tbody>\n",
       "    <tr>\n",
       "      <th>111174</th>\n",
       "      <td>145</td>\n",
       "      <td>55</td>\n",
       "      <td>79.0</td>\n",
       "      <td>208</td>\n",
       "      <td>14.4</td>\n",
       "      <td>0.8</td>\n",
       "      <td>98</td>\n",
       "      <td>0</td>\n",
       "      <td>145.0</td>\n",
       "      <td>55.0</td>\n",
       "      <td>...</td>\n",
       "      <td>5967.0</td>\n",
       "      <td>3.084545</td>\n",
       "      <td>3978.0</td>\n",
       "      <td>12138.0</td>\n",
       "      <td>6.274545</td>\n",
       "      <td>2601.0</td>\n",
       "      <td>7344.0</td>\n",
       "      <td>1.344545</td>\n",
       "      <td>3.796364</td>\n",
       "      <td>0.000695</td>\n",
       "    </tr>\n",
       "    <tr>\n",
       "      <th>145259</th>\n",
       "      <td>175</td>\n",
       "      <td>95</td>\n",
       "      <td>96.0</td>\n",
       "      <td>263</td>\n",
       "      <td>15.5</td>\n",
       "      <td>1.0</td>\n",
       "      <td>38</td>\n",
       "      <td>1</td>\n",
       "      <td>175.0</td>\n",
       "      <td>95.0</td>\n",
       "      <td>...</td>\n",
       "      <td>5124.0</td>\n",
       "      <td>2.247368</td>\n",
       "      <td>3192.0</td>\n",
       "      <td>9450.0</td>\n",
       "      <td>4.144737</td>\n",
       "      <td>1764.0</td>\n",
       "      <td>5460.0</td>\n",
       "      <td>0.773684</td>\n",
       "      <td>2.394737</td>\n",
       "      <td>0.000339</td>\n",
       "    </tr>\n",
       "    <tr>\n",
       "      <th>14937</th>\n",
       "      <td>170</td>\n",
       "      <td>70</td>\n",
       "      <td>91.0</td>\n",
       "      <td>281</td>\n",
       "      <td>16.2</td>\n",
       "      <td>0.8</td>\n",
       "      <td>68</td>\n",
       "      <td>1</td>\n",
       "      <td>170.0</td>\n",
       "      <td>70.0</td>\n",
       "      <td>...</td>\n",
       "      <td>4795.0</td>\n",
       "      <td>3.327143</td>\n",
       "      <td>3080.0</td>\n",
       "      <td>6895.0</td>\n",
       "      <td>4.784286</td>\n",
       "      <td>1225.0</td>\n",
       "      <td>3640.0</td>\n",
       "      <td>0.850000</td>\n",
       "      <td>2.525714</td>\n",
       "      <td>0.000590</td>\n",
       "    </tr>\n",
       "    <tr>\n",
       "      <th>58390</th>\n",
       "      <td>155</td>\n",
       "      <td>65</td>\n",
       "      <td>80.0</td>\n",
       "      <td>243</td>\n",
       "      <td>12.6</td>\n",
       "      <td>1.0</td>\n",
       "      <td>22</td>\n",
       "      <td>0</td>\n",
       "      <td>155.0</td>\n",
       "      <td>65.0</td>\n",
       "      <td>...</td>\n",
       "      <td>4484.0</td>\n",
       "      <td>2.813846</td>\n",
       "      <td>2736.0</td>\n",
       "      <td>7030.0</td>\n",
       "      <td>4.411538</td>\n",
       "      <td>1444.0</td>\n",
       "      <td>3724.0</td>\n",
       "      <td>0.906154</td>\n",
       "      <td>2.336923</td>\n",
       "      <td>0.000569</td>\n",
       "    </tr>\n",
       "    <tr>\n",
       "      <th>37527</th>\n",
       "      <td>170</td>\n",
       "      <td>60</td>\n",
       "      <td>76.0</td>\n",
       "      <td>135</td>\n",
       "      <td>15.9</td>\n",
       "      <td>0.9</td>\n",
       "      <td>18</td>\n",
       "      <td>1</td>\n",
       "      <td>170.0</td>\n",
       "      <td>60.0</td>\n",
       "      <td>...</td>\n",
       "      <td>7424.0</td>\n",
       "      <td>3.286667</td>\n",
       "      <td>4480.0</td>\n",
       "      <td>11776.0</td>\n",
       "      <td>5.213333</td>\n",
       "      <td>4096.0</td>\n",
       "      <td>5952.0</td>\n",
       "      <td>1.813333</td>\n",
       "      <td>2.635000</td>\n",
       "      <td>0.000803</td>\n",
       "    </tr>\n",
       "    <tr>\n",
       "      <th>65221</th>\n",
       "      <td>175</td>\n",
       "      <td>85</td>\n",
       "      <td>95.0</td>\n",
       "      <td>196</td>\n",
       "      <td>15.5</td>\n",
       "      <td>0.9</td>\n",
       "      <td>79</td>\n",
       "      <td>1</td>\n",
       "      <td>175.0</td>\n",
       "      <td>85.0</td>\n",
       "      <td>...</td>\n",
       "      <td>5980.0</td>\n",
       "      <td>2.676471</td>\n",
       "      <td>4140.0</td>\n",
       "      <td>9706.0</td>\n",
       "      <td>4.344118</td>\n",
       "      <td>2116.0</td>\n",
       "      <td>5796.0</td>\n",
       "      <td>0.947059</td>\n",
       "      <td>2.594118</td>\n",
       "      <td>0.000424</td>\n",
       "    </tr>\n",
       "  </tbody>\n",
       "</table>\n",
       "<p>6 rows × 127 columns</p>\n",
       "</div>"
      ],
      "text/plain": [
       "        height(cm)_x  weight(kg)_x  waist(cm)_x  triglyceride_x  hemoglobin_x  \\\n",
       "111174           145            55         79.0             208          14.4   \n",
       "145259           175            95         96.0             263          15.5   \n",
       "14937            170            70         91.0             281          16.2   \n",
       "58390            155            65         80.0             243          12.6   \n",
       "37527            170            60         76.0             135          15.9   \n",
       "65221            175            85         95.0             196          15.5   \n",
       "\n",
       "        serum creatinine_x  Gtp_x  smoking  height(cm)_y  weight(kg)_y  ...  \\\n",
       "111174                 0.8     98        0         145.0          55.0  ...   \n",
       "145259                 1.0     38        1         175.0          95.0  ...   \n",
       "14937                  0.8     68        1         170.0          70.0  ...   \n",
       "58390                  1.0     22        0         155.0          65.0  ...   \n",
       "37527                  0.9     18        1         170.0          60.0  ...   \n",
       "65221                  0.9     79        1         175.0          85.0  ...   \n",
       "\n",
       "        systolic HDL  systolic bmi  relaxation HDL  Cholesterol HDL  \\\n",
       "111174        5967.0      3.084545          3978.0          12138.0   \n",
       "145259        5124.0      2.247368          3192.0           9450.0   \n",
       "14937         4795.0      3.327143          3080.0           6895.0   \n",
       "58390         4484.0      2.813846          2736.0           7030.0   \n",
       "37527         7424.0      3.286667          4480.0          11776.0   \n",
       "65221         5980.0      2.676471          4140.0           9706.0   \n",
       "\n",
       "        Cholesterol bmi   HDL^2  HDL LDL   HDL bmi   LDL bmi     bmi^2  \n",
       "111174         6.274545  2601.0   7344.0  1.344545  3.796364  0.000695  \n",
       "145259         4.144737  1764.0   5460.0  0.773684  2.394737  0.000339  \n",
       "14937          4.784286  1225.0   3640.0  0.850000  2.525714  0.000590  \n",
       "58390          4.411538  1444.0   3724.0  0.906154  2.336923  0.000569  \n",
       "37527          5.213333  4096.0   5952.0  1.813333  2.635000  0.000803  \n",
       "65221          4.344118  2116.0   5796.0  0.947059  2.594118  0.000424  \n",
       "\n",
       "[6 rows x 127 columns]"
      ]
     },
     "execution_count": 131,
     "metadata": {},
     "output_type": "execute_result"
    }
   ],
   "source": [
    "final_poly_df.sample(6)"
   ]
  }
 ],
 "metadata": {
  "kernelspec": {
   "display_name": "base",
   "language": "python",
   "name": "python3"
  },
  "language_info": {
   "codemirror_mode": {
    "name": "ipython",
    "version": 3
   },
   "file_extension": ".py",
   "mimetype": "text/x-python",
   "name": "python",
   "nbconvert_exporter": "python",
   "pygments_lexer": "ipython3",
   "version": "3.9.13"
  }
 },
 "nbformat": 4,
 "nbformat_minor": 2
}
